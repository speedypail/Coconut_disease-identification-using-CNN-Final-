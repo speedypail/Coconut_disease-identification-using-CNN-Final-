{
 "cells": [
  {
   "cell_type": "code",
   "execution_count": 9,
   "id": "c3c1b601-3afa-4c80-ab04-33fe5fde78c8",
   "metadata": {},
   "outputs": [],
   "source": [
    "import tensorflow as tf"
   ]
  },
  {
   "cell_type": "code",
   "execution_count": 12,
   "id": "9b30f7be-683c-49c5-9299-dccb0d60115f",
   "metadata": {},
   "outputs": [],
   "source": [
    "model = tf.keras.models.load_model(\"trained_model.keras\")\n"
   ]
  },
  {
   "cell_type": "code",
   "execution_count": 13,
   "id": "d248c30b-b526-4d07-989b-f93eb3037123",
   "metadata": {},
   "outputs": [
    {
     "name": "stdout",
     "output_type": "stream",
     "text": [
      "INFO:tensorflow:Assets written to: /tmp/tmpjqmodj55/assets\n"
     ]
    },
    {
     "name": "stderr",
     "output_type": "stream",
     "text": [
      "[ INFO ]  Assets written to: %s\n"
     ]
    },
    {
     "name": "stdout",
     "output_type": "stream",
     "text": [
      "Saved artifact at '/tmp/tmpjqmodj55'. The following endpoints are available:\n",
      "\n",
      "* Endpoint 'serve'\n",
      "  args_0 (POSITIONAL_ONLY): TensorSpec(shape=(None, 300, 300, 3), dtype=tf.float32, name='input_layer')\n",
      "Output Type:\n",
      "  TensorSpec(shape=(None, 6), dtype=tf.float32, name=None)\n",
      "Captures:\n",
      "  138620005333712: TensorSpec(shape=(), dtype=tf.resource, name=None)\n",
      "  138620005334672: TensorSpec(shape=(), dtype=tf.resource, name=None)\n",
      "  138620005334096: TensorSpec(shape=(), dtype=tf.resource, name=None)\n",
      "  138620005334288: TensorSpec(shape=(), dtype=tf.resource, name=None)\n",
      "  138620005332560: TensorSpec(shape=(), dtype=tf.resource, name=None)\n",
      "  138620003845712: TensorSpec(shape=(), dtype=tf.resource, name=None)\n",
      "  138620003844752: TensorSpec(shape=(), dtype=tf.resource, name=None)\n",
      "  138620003846672: TensorSpec(shape=(), dtype=tf.resource, name=None)\n",
      "  138620003846480: TensorSpec(shape=(), dtype=tf.resource, name=None)\n",
      "  138620003848016: TensorSpec(shape=(), dtype=tf.resource, name=None)\n"
     ]
    },
    {
     "name": "stderr",
     "output_type": "stream",
     "text": [
      "WARNING: All log messages before absl::InitializeLog() is called are written to STDERR\n",
      "W0000 00:00:1741627722.932923   28809 tf_tfl_flatbuffer_helpers.cc:365] Ignored output_format.\n",
      "W0000 00:00:1741627722.932938   28809 tf_tfl_flatbuffer_helpers.cc:368] Ignored drop_control_dependency.\n",
      "2025-03-10 22:58:42.933355: I tensorflow/cc/saved_model/reader.cc:83] Reading SavedModel from: /tmp/tmpjqmodj55\n",
      "2025-03-10 22:58:42.933898: I tensorflow/cc/saved_model/reader.cc:52] Reading meta graph with tags { serve }\n",
      "2025-03-10 22:58:42.933909: I tensorflow/cc/saved_model/reader.cc:147] Reading SavedModel debug info (if present) from: /tmp/tmpjqmodj55\n",
      "I0000 00:00:1741627722.938178   28809 mlir_graph_optimization_pass.cc:401] MLIR V1 optimization pass is not enabled\n",
      "2025-03-10 22:58:42.939065: I tensorflow/cc/saved_model/loader.cc:236] Restoring SavedModel bundle.\n",
      "2025-03-10 22:58:43.023773: I tensorflow/cc/saved_model/loader.cc:220] Running initialization op on SavedModel bundle at path: /tmp/tmpjqmodj55\n",
      "2025-03-10 22:58:43.032360: I tensorflow/cc/saved_model/loader.cc:466] SavedModel load for tags { serve }; Status: success: OK. Took 99007 microseconds.\n",
      "2025-03-10 22:58:43.040393: I tensorflow/compiler/mlir/tensorflow/utils/dump_mlir_util.cc:268] disabling MLIR crash reproducer, set env var `MLIR_CRASH_REPRODUCER_DIRECTORY` to enable.\n"
     ]
    }
   ],
   "source": [
    "converter = tf.lite.TFLiteConverter.from_keras_model(model)\n",
    "converter.optimizations = [tf.lite.Optimize.DEFAULT]  # Optional: Enables optimizations\n",
    "tflite_model = converter.convert()"
   ]
  },
  {
   "cell_type": "code",
   "execution_count": 14,
   "id": "d7be063f-f808-4b5b-9c32-94eaba065743",
   "metadata": {},
   "outputs": [
    {
     "name": "stdout",
     "output_type": "stream",
     "text": [
      "✅ TFLite model conversion successful!\n"
     ]
    }
   ],
   "source": [
    "with open(\"model.tflite\", \"wb\") as f:\n",
    "    f.write(tflite_model)\n",
    "\n",
    "print(\"✅ TFLite model conversion successful!\")"
   ]
  },
  {
   "cell_type": "code",
   "execution_count": 6,
   "id": "e988e9cb-5c44-4d76-8ef2-d8436d27e7d7",
   "metadata": {},
   "outputs": [],
   "source": []
  },
  {
   "cell_type": "code",
   "execution_count": null,
   "id": "c45f9369-d2ba-4b0d-b5d7-e30fb8807210",
   "metadata": {},
   "outputs": [],
   "source": []
  }
 ],
 "metadata": {
  "kernelspec": {
   "display_name": "Python 3 (ipykernel)",
   "language": "python",
   "name": "python3"
  },
  "language_info": {
   "codemirror_mode": {
    "name": "ipython",
    "version": 3
   },
   "file_extension": ".py",
   "mimetype": "text/x-python",
   "name": "python",
   "nbconvert_exporter": "python",
   "pygments_lexer": "ipython3",
   "version": "3.12.3"
  }
 },
 "nbformat": 4,
 "nbformat_minor": 5
}
